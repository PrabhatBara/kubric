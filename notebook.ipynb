{
 "cells": [
  {
   "cell_type": "markdown",
   "metadata": {},
   "source": [
    "## Import the Dataset"
   ]
  },
  {
   "cell_type": "code",
   "execution_count": 102,
   "metadata": {},
   "outputs": [],
   "source": [
    "import pandas as pd\n",
    "import numpy as np\n",
    "import matplotlib.pyplot as plt"
   ]
  },
  {
   "cell_type": "code",
   "execution_count": 103,
   "metadata": {},
   "outputs": [
    {
     "data": {
      "text/html": [
       "<div>\n",
       "<style scoped>\n",
       "    .dataframe tbody tr th:only-of-type {\n",
       "        vertical-align: middle;\n",
       "    }\n",
       "\n",
       "    .dataframe tbody tr th {\n",
       "        vertical-align: top;\n",
       "    }\n",
       "\n",
       "    .dataframe thead th {\n",
       "        text-align: right;\n",
       "    }\n",
       "</style>\n",
       "<table border=\"1\" class=\"dataframe\">\n",
       "  <thead>\n",
       "    <tr style=\"text-align: right;\">\n",
       "      <th></th>\n",
       "      <th>0</th>\n",
       "      <th>1</th>\n",
       "      <th>2</th>\n",
       "      <th>3</th>\n",
       "      <th>4</th>\n",
       "      <th>5</th>\n",
       "      <th>6</th>\n",
       "      <th>7</th>\n",
       "      <th>8</th>\n",
       "      <th>9</th>\n",
       "      <th>...</th>\n",
       "      <th>257</th>\n",
       "      <th>258</th>\n",
       "      <th>259</th>\n",
       "      <th>260</th>\n",
       "      <th>261</th>\n",
       "      <th>262</th>\n",
       "      <th>263</th>\n",
       "      <th>264</th>\n",
       "      <th>265</th>\n",
       "      <th>266</th>\n",
       "    </tr>\n",
       "  </thead>\n",
       "  <tbody>\n",
       "    <tr>\n",
       "      <th>0</th>\n",
       "      <td>area</td>\n",
       "      <td>22255.000000</td>\n",
       "      <td>10847.500000</td>\n",
       "      <td>31322.500000</td>\n",
       "      <td>19915.000000</td>\n",
       "      <td>32785.000000</td>\n",
       "      <td>2657.500000</td>\n",
       "      <td>16990.000000</td>\n",
       "      <td>19135.000000</td>\n",
       "      <td>3925.000000</td>\n",
       "      <td>...</td>\n",
       "      <td>21572.500000</td>\n",
       "      <td>1877.500000</td>\n",
       "      <td>36002.500000</td>\n",
       "      <td>20012.500000</td>\n",
       "      <td>25472.500000</td>\n",
       "      <td>32492.500000</td>\n",
       "      <td>19720.0000</td>\n",
       "      <td>12407.500000</td>\n",
       "      <td>5582.500000</td>\n",
       "      <td>17770.000000</td>\n",
       "    </tr>\n",
       "    <tr>\n",
       "      <th>1</th>\n",
       "      <td>price</td>\n",
       "      <td>2125.135439</td>\n",
       "      <td>1474.023166</td>\n",
       "      <td>2204.104855</td>\n",
       "      <td>2009.355081</td>\n",
       "      <td>2293.436382</td>\n",
       "      <td>1129.406076</td>\n",
       "      <td>1894.875554</td>\n",
       "      <td>2001.694539</td>\n",
       "      <td>1126.762309</td>\n",
       "      <td>...</td>\n",
       "      <td>2113.358253</td>\n",
       "      <td>1116.953686</td>\n",
       "      <td>2187.410256</td>\n",
       "      <td>2007.377616</td>\n",
       "      <td>2187.446854</td>\n",
       "      <td>2243.617624</td>\n",
       "      <td>1966.0678</td>\n",
       "      <td>1604.664291</td>\n",
       "      <td>1104.610058</td>\n",
       "      <td>1979.805113</td>\n",
       "    </tr>\n",
       "  </tbody>\n",
       "</table>\n",
       "<p>2 rows × 267 columns</p>\n",
       "</div>"
      ],
      "text/plain": [
       "     0             1             2             3             4    \\\n",
       "0   area  22255.000000  10847.500000  31322.500000  19915.000000   \n",
       "1  price   2125.135439   1474.023166   2204.104855   2009.355081   \n",
       "\n",
       "            5            6             7             8            9    ...  \\\n",
       "0  32785.000000  2657.500000  16990.000000  19135.000000  3925.000000  ...   \n",
       "1   2293.436382  1129.406076   1894.875554   2001.694539  1126.762309  ...   \n",
       "\n",
       "            257          258           259           260           261  \\\n",
       "0  21572.500000  1877.500000  36002.500000  20012.500000  25472.500000   \n",
       "1   2113.358253  1116.953686   2187.410256   2007.377616   2187.446854   \n",
       "\n",
       "            262         263           264          265           266  \n",
       "0  32492.500000  19720.0000  12407.500000  5582.500000  17770.000000  \n",
       "1   2243.617624   1966.0678   1604.664291  1104.610058   1979.805113  \n",
       "\n",
       "[2 rows x 267 columns]"
      ]
     },
     "execution_count": 103,
     "metadata": {},
     "output_type": "execute_result"
    }
   ],
   "source": [
    "train.head(5)"
   ]
  },
  {
   "cell_type": "code",
   "execution_count": 104,
   "metadata": {},
   "outputs": [
    {
     "data": {
      "text/html": [
       "<div>\n",
       "<style scoped>\n",
       "    .dataframe tbody tr th:only-of-type {\n",
       "        vertical-align: middle;\n",
       "    }\n",
       "\n",
       "    .dataframe tbody tr th {\n",
       "        vertical-align: top;\n",
       "    }\n",
       "\n",
       "    .dataframe thead th {\n",
       "        text-align: right;\n",
       "    }\n",
       "</style>\n",
       "<table border=\"1\" class=\"dataframe\">\n",
       "  <thead>\n",
       "    <tr style=\"text-align: right;\">\n",
       "      <th></th>\n",
       "      <th>0</th>\n",
       "      <th>1</th>\n",
       "    </tr>\n",
       "  </thead>\n",
       "  <tbody>\n",
       "    <tr>\n",
       "      <th>0</th>\n",
       "      <td>area</td>\n",
       "      <td>price</td>\n",
       "    </tr>\n",
       "    <tr>\n",
       "      <th>1</th>\n",
       "      <td>22255</td>\n",
       "      <td>2125.14</td>\n",
       "    </tr>\n",
       "    <tr>\n",
       "      <th>2</th>\n",
       "      <td>10847.5</td>\n",
       "      <td>1474.02</td>\n",
       "    </tr>\n",
       "    <tr>\n",
       "      <th>3</th>\n",
       "      <td>31322.5</td>\n",
       "      <td>2204.1</td>\n",
       "    </tr>\n",
       "    <tr>\n",
       "      <th>4</th>\n",
       "      <td>19915</td>\n",
       "      <td>2009.36</td>\n",
       "    </tr>\n",
       "  </tbody>\n",
       "</table>\n",
       "</div>"
      ],
      "text/plain": [
       "         0        1\n",
       "0     area    price\n",
       "1    22255  2125.14\n",
       "2  10847.5  1474.02\n",
       "3  31322.5   2204.1\n",
       "4    19915  2009.36"
      ]
     },
     "execution_count": 104,
     "metadata": {},
     "output_type": "execute_result"
    }
   ],
   "source": [
    "train = train.transpose()\n",
    "train.head(5)"
   ]
  },
  {
   "cell_type": "code",
   "execution_count": 134,
   "metadata": {},
   "outputs": [],
   "source": [
    "X = train.iloc[1:,0].values\n"
   ]
  },
  {
   "cell_type": "code",
   "execution_count": 135,
   "metadata": {},
   "outputs": [],
   "source": [
    "y = train.iloc[1:,1].values\n"
   ]
  },
  {
   "cell_type": "code",
   "execution_count": 124,
   "metadata": {},
   "outputs": [
    {
     "data": {
      "text/plain": [
       "(array([25., 24., 30., 23., 29., 29., 27., 24., 27., 28.]),\n",
       " array([1000.0, 4880.5, 8761.0, 12641.5, 16522.0, 20402.5, 24283.0,\n",
       "        28163.5, 32044.0, 35924.5, 39805.0], dtype=object),\n",
       " <BarContainer object of 10 artists>)"
      ]
     },
     "execution_count": 124,
     "metadata": {},
     "output_type": "execute_result"
    },
    {
     "data": {
      "image/png": "[encoded data removed]",
      "text/plain": [
       "<Figure size 1080x1440 with 2 Axes>"
      ]
     },
     "metadata": {
      "needs_background": "light"
     },
     "output_type": "display_data"
    }
   ],
   "source": [
    "%matplotlib inline\n",
    "fig = plt.figure(figsize = (15, 20))\n",
    "gs = fig.add_gridspec(2, 2)\n",
    "ax = fig.add_subplot(gs[0,0])\n",
    "\n",
    "ax.scatter(X,y)\n",
    "\n",
    "ax1 = fig.add_subplot(gs[0,1])\n",
    "ax1.hist(X, bins = 10)"
   ]
  },
  {
   "cell_type": "code",
   "execution_count": 136,
   "metadata": {},
   "outputs": [],
   "source": [
    "X = X.reshape(-1,1)\n",
    "y = y.reshape(-1,1)\n"
   ]
  },
  {
   "cell_type": "code",
   "execution_count": 137,
   "metadata": {},
   "outputs": [
    {
     "data": {
      "text/plain": [
       "LinearRegression()"
      ]
     },
     "execution_count": 137,
     "metadata": {},
     "output_type": "execute_result"
    }
   ],
   "source": [
    "from sklearn.linear_model import LinearRegression\n",
    "regressor = LinearRegression()\n",
    "regressor.fit(X,y)"
   ]
  },
  {
   "cell_type": "code",
   "execution_count": 138,
   "metadata": {},
   "outputs": [],
   "source": [
    "y_pred = regressor.predict(X)"
   ]
  },
  {
   "cell_type": "code",
   "execution_count": 139,
   "metadata": {},
   "outputs": [
    {
     "data": {
      "text/plain": [
       "0.8695512003605339"
      ]
     },
     "execution_count": 139,
     "metadata": {},
     "output_type": "execute_result"
    }
   ],
   "source": [
    "from sklearn.metrics import r2_score\n",
    "r2 = r2_score(y,y_pred)\n",
    "r2"
   ]
  },
  {
   "cell_type": "code",
   "execution_count": 140,
   "metadata": {},
   "outputs": [
    {
     "data": {
      "text/plain": [
       "<matplotlib.collections.PathCollection at 0x1951a080688>"
      ]
     },
     "execution_count": 140,
     "metadata": {},
     "output_type": "execute_result"
    },
    {
     "data": {
      "image/png": "[encoded data removed]",
      "text/plain": [
       "<Figure size 432x288 with 1 Axes>"
      ]
     },
     "metadata": {
      "needs_background": "light"
     },
     "output_type": "display_data"
    }
   ],
   "source": [
    "plt.scatter(y,y_pred)"
   ]
  },
  {
   "cell_type": "code",
   "execution_count": 141,
   "metadata": {},
   "outputs": [
    {
     "data": {
      "text/html": [
       "<div>\n",
       "<style scoped>\n",
       "    .dataframe tbody tr th:only-of-type {\n",
       "        vertical-align: middle;\n",
       "    }\n",
       "\n",
       "    .dataframe tbody tr th {\n",
       "        vertical-align: top;\n",
       "    }\n",
       "\n",
       "    .dataframe thead th {\n",
       "        text-align: right;\n",
       "    }\n",
       "</style>\n",
       "<table border=\"1\" class=\"dataframe\">\n",
       "  <thead>\n",
       "    <tr style=\"text-align: right;\">\n",
       "      <th></th>\n",
       "      <th>0</th>\n",
       "      <th>1</th>\n",
       "      <th>2</th>\n",
       "      <th>3</th>\n",
       "      <th>4</th>\n",
       "      <th>5</th>\n",
       "      <th>6</th>\n",
       "      <th>7</th>\n",
       "      <th>8</th>\n",
       "      <th>9</th>\n",
       "      <th>...</th>\n",
       "      <th>125</th>\n",
       "      <th>126</th>\n",
       "      <th>127</th>\n",
       "      <th>128</th>\n",
       "      <th>129</th>\n",
       "      <th>130</th>\n",
       "      <th>131</th>\n",
       "      <th>132</th>\n",
       "      <th>133</th>\n",
       "      <th>134</th>\n",
       "    </tr>\n",
       "  </thead>\n",
       "  <tbody>\n",
       "    <tr>\n",
       "      <th>0</th>\n",
       "      <td>area</td>\n",
       "      <td>13870.000000</td>\n",
       "      <td>31127.500000</td>\n",
       "      <td>34247.500000</td>\n",
       "      <td>20110.000000</td>\n",
       "      <td>24985.000000</td>\n",
       "      <td>6850.000000</td>\n",
       "      <td>16112.500000</td>\n",
       "      <td>26447.500000</td>\n",
       "      <td>14747.50000</td>\n",
       "      <td>...</td>\n",
       "      <td>37757.500000</td>\n",
       "      <td>14845.000000</td>\n",
       "      <td>3145.000000</td>\n",
       "      <td>25570.000000</td>\n",
       "      <td>35125.000000</td>\n",
       "      <td>17380.000000</td>\n",
       "      <td>15625.000000</td>\n",
       "      <td>39317.500000</td>\n",
       "      <td>7435.000000</td>\n",
       "      <td>24400.000000</td>\n",
       "    </tr>\n",
       "    <tr>\n",
       "      <th>1</th>\n",
       "      <td>price</td>\n",
       "      <td>1713.565866</td>\n",
       "      <td>2279.545753</td>\n",
       "      <td>2276.370597</td>\n",
       "      <td>2158.098987</td>\n",
       "      <td>2197.525012</td>\n",
       "      <td>1197.992161</td>\n",
       "      <td>1888.245985</td>\n",
       "      <td>2206.327632</td>\n",
       "      <td>1761.51812</td>\n",
       "      <td>...</td>\n",
       "      <td>2295.320291</td>\n",
       "      <td>1717.785916</td>\n",
       "      <td>1074.296302</td>\n",
       "      <td>2138.195695</td>\n",
       "      <td>2233.802164</td>\n",
       "      <td>1909.979399</td>\n",
       "      <td>1741.810359</td>\n",
       "      <td>2134.821855</td>\n",
       "      <td>1386.677054</td>\n",
       "      <td>2165.408654</td>\n",
       "    </tr>\n",
       "  </tbody>\n",
       "</table>\n",
       "<p>2 rows × 135 columns</p>\n",
       "</div>"
      ],
      "text/plain": [
       "     0             1             2             3             4    \\\n",
       "0   area  13870.000000  31127.500000  34247.500000  20110.000000   \n",
       "1  price   1713.565866   2279.545753   2276.370597   2158.098987   \n",
       "\n",
       "            5            6             7             8            9    ...  \\\n",
       "0  24985.000000  6850.000000  16112.500000  26447.500000  14747.50000  ...   \n",
       "1   2197.525012  1197.992161   1888.245985   2206.327632   1761.51812  ...   \n",
       "\n",
       "            125           126          127           128           129  \\\n",
       "0  37757.500000  14845.000000  3145.000000  25570.000000  35125.000000   \n",
       "1   2295.320291   1717.785916  1074.296302   2138.195695   2233.802164   \n",
       "\n",
       "            130           131           132          133           134  \n",
       "0  17380.000000  15625.000000  39317.500000  7435.000000  24400.000000  \n",
       "1   1909.979399   1741.810359   2134.821855  1386.677054   2165.408654  \n",
       "\n",
       "[2 rows x 135 columns]"
      ]
     },
     "execution_count": 141,
     "metadata": {},
     "output_type": "execute_result"
    }
   ],
   "source": [
    "test = pd.read_csv(\"linreg_test.csv\", header=None)\n",
    "test.head(5)"
   ]
  },
  {
   "cell_type": "code",
   "execution_count": 142,
   "metadata": {},
   "outputs": [
    {
     "data": {
      "text/html": [
       "<div>\n",
       "<style scoped>\n",
       "    .dataframe tbody tr th:only-of-type {\n",
       "        vertical-align: middle;\n",
       "    }\n",
       "\n",
       "    .dataframe tbody tr th {\n",
       "        vertical-align: top;\n",
       "    }\n",
       "\n",
       "    .dataframe thead th {\n",
       "        text-align: right;\n",
       "    }\n",
       "</style>\n",
       "<table border=\"1\" class=\"dataframe\">\n",
       "  <thead>\n",
       "    <tr style=\"text-align: right;\">\n",
       "      <th></th>\n",
       "      <th>0</th>\n",
       "      <th>1</th>\n",
       "    </tr>\n",
       "  </thead>\n",
       "  <tbody>\n",
       "    <tr>\n",
       "      <th>0</th>\n",
       "      <td>area</td>\n",
       "      <td>price</td>\n",
       "    </tr>\n",
       "    <tr>\n",
       "      <th>1</th>\n",
       "      <td>13870</td>\n",
       "      <td>1713.57</td>\n",
       "    </tr>\n",
       "    <tr>\n",
       "      <th>2</th>\n",
       "      <td>31127.5</td>\n",
       "      <td>2279.55</td>\n",
       "    </tr>\n",
       "    <tr>\n",
       "      <th>3</th>\n",
       "      <td>34247.5</td>\n",
       "      <td>2276.37</td>\n",
       "    </tr>\n",
       "    <tr>\n",
       "      <th>4</th>\n",
       "      <td>20110</td>\n",
       "      <td>2158.1</td>\n",
       "    </tr>\n",
       "  </tbody>\n",
       "</table>\n",
       "</div>"
      ],
      "text/plain": [
       "         0        1\n",
       "0     area    price\n",
       "1    13870  1713.57\n",
       "2  31127.5  2279.55\n",
       "3  34247.5  2276.37\n",
       "4    20110   2158.1"
      ]
     },
     "execution_count": 142,
     "metadata": {},
     "output_type": "execute_result"
    }
   ],
   "source": [
    "test = test.transpose()\n",
    "test.head(5)"
   ]
  },
  {
   "cell_type": "code",
   "execution_count": 145,
   "metadata": {},
   "outputs": [],
   "source": [
    "X_test = test.iloc[1:,0]\n",
    "X_test = np.array(X_test)\n",
    "X_test = X_test.reshape(-1,1)"
   ]
  },
  {
   "cell_type": "code",
   "execution_count": 146,
   "metadata": {},
   "outputs": [],
   "source": [
    "y_test = test.iloc[1:,1]\n",
    "y_test = np.array(y_test)\n",
    "y_test = y_test.reshape(-1,1)"
   ]
  },
  {
   "cell_type": "code",
   "execution_count": 147,
   "metadata": {},
   "outputs": [],
   "source": [
    "y_test_pred = regressor.predict(X_test)"
   ]
  },
  {
   "cell_type": "code",
   "execution_count": 149,
   "metadata": {},
   "outputs": [
    {
     "data": {
      "text/plain": [
       "<matplotlib.collections.PathCollection at 0x1951a40fec8>"
      ]
     },
     "execution_count": 149,
     "metadata": {},
     "output_type": "execute_result"
    },
    {
     "data": {
      "image/png": "[encoded data removed]",
      "text/plain": [
       "<Figure size 432x288 with 1 Axes>"
      ]
     },
     "metadata": {
      "needs_background": "light"
     },
     "output_type": "display_data"
    }
   ],
   "source": [
    "plt.scatter(y_test,y_test_pred)"
   ]
  },
  {
   "cell_type": "code",
   "execution_count": 150,
   "metadata": {},
   "outputs": [
    {
     "data": {
      "text/plain": [
       "PolynomialFeatures()"
      ]
     },
     "execution_count": 150,
     "metadata": {},
     "output_type": "execute_result"
    }
   ],
   "source": [
    "from sklearn.preprocessing import PolynomialFeatures\n",
    "poly_reg = PolynomialFeatures(degree = 2)\n",
    "X_poly = poly_reg.fit_transform(X)\n",
    "poly_reg.fit(X_poly, y)"
   ]
  },
  {
   "cell_type": "code",
   "execution_count": 156,
   "metadata": {},
   "outputs": [
    {
     "data": {
      "text/plain": [
       "LinearRegression()"
      ]
     },
     "execution_count": 156,
     "metadata": {},
     "output_type": "execute_result"
    }
   ],
   "source": [
    "regressor.fit(X_poly, y)"
   ]
  },
  {
   "cell_type": "code",
   "execution_count": 157,
   "metadata": {},
   "outputs": [],
   "source": [
    "y_pred = regressor.predict(X_poly)"
   ]
  },
  {
   "cell_type": "code",
   "execution_count": 158,
   "metadata": {},
   "outputs": [
    {
     "data": {
      "text/plain": [
       "0.9730328340271359"
      ]
     },
     "execution_count": 158,
     "metadata": {},
     "output_type": "execute_result"
    }
   ],
   "source": [
    "from sklearn.metrics import r2_score\n",
    "r2 = r2_score(y,y_pred)\n",
    "r2"
   ]
  }
 ],
 "metadata": {
  "kernelspec": {
   "display_name": "Python 3",
   "language": "python",
   "name": "python3"
  },
  "language_info": {
   "codemirror_mode": {
    "name": "ipython",
    "version": 3
   },
   "file_extension": ".py",
   "mimetype": "text/x-python",
   "name": "python",
   "nbconvert_exporter": "python",
   "pygments_lexer": "ipython3",
   "version": "3.7.8"
  }
 },
 "nbformat": 4,
 "nbformat_minor": 4
}
